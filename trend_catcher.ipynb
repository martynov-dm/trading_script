{
 "cells": [
  {
   "cell_type": "code",
   "execution_count": 48,
   "metadata": {},
   "outputs": [
    {
     "name": "stderr",
     "output_type": "stream",
     "text": [
      "/var/folders/dk/n5gn7cgn1_ddg9435cgt0r6r0000gn/T/ipykernel_63132/12010083.py:42: SettingWithCopyWarning: \n",
      "A value is trying to be set on a copy of a slice from a DataFrame.\n",
      "Try using .loc[row_indexer,col_indexer] = value instead\n",
      "\n",
      "See the caveats in the documentation: https://pandas.pydata.org/pandas-docs/stable/user_guide/indexing.html#returning-a-view-versus-a-copy\n",
      "  coins_filtered['total_volume'] = pd.to_numeric(coins_filtered['total_volume'], errors='coerce')\n"
     ]
    }
   ],
   "source": [
    "import requests\n",
    "import pandas as pd\n",
    "\n",
    "API_KEY = 'CG-ZGHLZY66rLn27kHpEeRLC4EC'\n",
    "filtered_out_ids = ['weth', 'vnst-stablecoin', 'ripple', 'wrapped-solana', 'ether-fi', 'wrapped-bitcoin', 'binance-bridged-usdt-bnb-smart-chain', 'wbnb', 'jupiter-exchange-solana']\n",
    "\n",
    "import time\n",
    "\n",
    "def get_coin_data(api_url, retry_count=3, wait_time=60):\n",
    "    headers = {'x-cg-demo-api-key': API_KEY}\n",
    "    \n",
    "    for attempt in range(retry_count):\n",
    "        try:\n",
    "            response = requests.get(api_url, headers=headers)\n",
    "            response.raise_for_status()  # Raise an exception for 4xx or 5xx status codes\n",
    "            data = response.json()\n",
    "            return data\n",
    "        except requests.exceptions.RequestException as e:\n",
    "            if response.status_code == 429:\n",
    "                if attempt < retry_count - 1:\n",
    "                    print(f\"Request throttled {api_url}. Retrying in {wait_time} seconds...\")\n",
    "                    time.sleep(wait_time)\n",
    "                else:\n",
    "                    print(\"Max retry attempts reached. Skipping this request.\")\n",
    "            else:\n",
    "                print(f\"Error occurred: {e}\")\n",
    "                print(f\"Response status code: {response.status_code}\")\n",
    "                print(f\"Response text: {response.text}\")\n",
    "                break\n",
    "    \n",
    "    return None\n",
    "\n",
    "\n",
    "url_24h = 'https://api.coingecko.com/api/v3/coins/markets?vs_currency=usd&order=volume_desc&per_page=75&page=1&sparkline=false'\n",
    "coins_24h = pd.DataFrame(get_coin_data(url_24h))\n",
    "\n",
    "url_stablecoins = 'https://api.coingecko.com/api/v3/coins/markets?vs_currency=usd&category=stablecoins'\n",
    "stablecoins = pd.DataFrame(get_coin_data(url_stablecoins))\n",
    "stablecoin_ids = stablecoins['id'].tolist()\n",
    "\n",
    "coins_filtered = coins_24h[~coins_24h['id'].isin(stablecoin_ids + filtered_out_ids)]\n",
    "coins_filtered['total_volume'] = pd.to_numeric(coins_filtered['total_volume'], errors='coerce')\n",
    "coins_filtered = coins_filtered.sort_values(by='total_volume', ascending=False).head(40)\n",
    "\n",
    "columns_to_drop = ['image', 'fully_diluted_valuation', 'high_24h', 'low_24h', 'price_change_24h',\n",
    "                   'price_change_percentage_24h', 'market_cap_change_24h', 'market_cap_change_percentage_24h',\n",
    "                   'circulating_supply', 'total_supply', 'max_supply', 'ath', 'ath_change_percentage',\n",
    "                   'ath_date', 'atl', 'atl_change_percentage', 'atl_date', 'roi', 'last_updated']\n",
    "\n",
    "\n",
    "coins_filtered = coins_filtered.drop(columns=columns_to_drop)\n",
    "\n"
   ]
  },
  {
   "cell_type": "code",
   "execution_count": 49,
   "metadata": {},
   "outputs": [
    {
     "name": "stdout",
     "output_type": "stream",
     "text": [
      "BTC price is above the 50-day SMA. Favorable for long positions.\n",
      "BTC current price: 71161.00\n",
      "BTC 50-day SMA: 65271.71\n"
     ]
    }
   ],
   "source": [
    "# Fetch BTC price and 50-day SMA\n",
    "url_btc_history = 'https://api.coingecko.com/api/v3/coins/bitcoin/market_chart?vs_currency=usd&days=50&interval=daily'\n",
    "btc_history = get_coin_data(url_btc_history)\n",
    "btc_prices = [price[1] for price in btc_history['prices']]\n",
    "btc_sma50 = pd.Series(btc_prices).rolling(window=50).mean().iloc[-1]\n",
    "btc_price = coins_filtered[coins_filtered['symbol'] == 'btc']['current_price'].values[0]\n",
    "\n",
    "if btc_price > btc_sma50:\n",
    "    print(\"BTC price is above the 50-day SMA. Favorable for long positions.\")\n",
    "else:\n",
    "    print(\"BTC price is below the 50-day SMA. Not favorable for long positions.\")\n",
    "\n",
    "print(f\"BTC current price: {btc_price:.2f}\")\n",
    "print(f\"BTC 50-day SMA: {btc_sma50:.2f}\")"
   ]
  },
  {
   "cell_type": "code",
   "execution_count": 50,
   "metadata": {},
   "outputs": [],
   "source": [
    "coin_histories = {}\n",
    "for index, row in coins_filtered.iterrows():\n",
    "    coin_id = row['id']\n",
    "    url_coin_history = f'https://api.coingecko.com/api/v3/coins/{coin_id}/market_chart?vs_currency=usd&days=25&interval=daily'\n",
    "    coin_history = get_coin_data(url_coin_history)\n",
    "    coin_histories[coin_id] = coin_history\n",
    "    try:\n",
    "        coin_history = get_coin_data(url_coin_history)\n",
    "        coin_histories[coin_id] = coin_history\n",
    "    except Exception as e:\n",
    "        print(f\"Error occurred for {coin_id}: {str(e)}. Skipping this coin.\")\n",
    "        continue"
   ]
  },
  {
   "cell_type": "code",
   "execution_count": 55,
   "metadata": {},
   "outputs": [
    {
     "name": "stdout",
     "output_type": "stream",
     "text": [
      "[69497.7631929463, 65292.31329331289, 68425.41565643054, 67708.94360930806, 62132.51737873437, 67819.05570684028, 65535.97844847657, 63509.04496523133, 64285.80279102199, 67310.98326810106, 69938.94530200244, 70082.05122475982, 69435.75040305211, 70710.19534863312, 69919.05546148612, 69702.3087473573, 71246.95144060145, 69785.92503802372, 65440.41922587159, 66123.938539074, 68542.17715279506, 67978.61023408506, 69000.6499164776, 69401.97360911008, 71624.18486236996, 71160.51293182065]\n",
      "[3738.381184462065, 3514.222472178163, 3643.280347379834, 3525.8936406700236, 3171.293836639821, 3515.6884318548646, 3493.4304387798707, 3322.891277320318, 3353.371241538487, 3454.257071389558, 3588.493402189288, 3591.5485279028403, 3505.2181161826984, 3560.26151146781, 3516.096057627979, 3507.6606559474685, 3644.767598784896, 3508.2477201085417, 3274.901203544406, 3316.6829546775257, 3332.089836615912, 3320.2815889834437, 3362.838907503287, 3453.4361261792887, 3695.239391141908, 3680.9920423458907]\n",
      "[183.9242834890865, 180.80173842188316, 202.51891185720268, 196.34529342439117, 169.59755629640884, 191.44187811368815, 179.5544644084378, 173.45563634427955, 173.4537726410555, 184.02186416380982, 188.99685465903278, 191.23614507446956, 186.13894375748401, 189.5749906128262, 192.02726585672397, 194.48104356471714, 202.81432536234064, 192.7252498952993, 181.44094341124986, 185.51116280992997, 183.82146316534414, 175.16816341233152, 178.95970355653492, 179.58218749799138, 180.64287344561157, 177.2212952180651]\n",
      "[0.16328412791411134, 0.14203759838446814, 0.15413082575453688, 0.14406135728141792, 0.12847077134877583, 0.1512975324625558, 0.1555984910137473, 0.15209369704346498, 0.1624504785977163, 0.17665347153314906, 0.1750620373515769, 0.1825288513451653, 0.18966327547428183, 0.21990263590707787, 0.21312296629393865, 0.1998904472009426, 0.22025496445264617, 0.20577050537263902, 0.18253536301143355, 0.17560452894229325, 0.1798459312129463, 0.17802533045682747, 0.18569294941600192, 0.19949826055294137, 0.20272749884003038, 0.19946039250920455]\n",
      "[621.6567029445225, 575.4381141809567, 572.0297309383858, 554.2073180923328, 507.01221814701705, 556.5082042653142, 553.7225434912489, 549.8607543980085, 554.1644153997655, 568.7407679771118, 586.4285039935903, 580.8520230009177, 575.5479374384904, 583.2907441256798, 616.5829205548276, 601.2065057456366, 606.6259820801984, 577.9573539863145, 550.8593008357556, 563.5991778362661, 585.5721433827005, 580.0675207216524, 585.3939720444681, 584.2989455387399, 587.4568516935112, 583.9518831672289]\n",
      "[0.7872579260548075, 0.7872579260548075, 1.1316583204146422, 0.9832437534957881, 1.0194187796208223, 1.0902165685763099, 1.1930546727603144, 1.3051900758400965, 1.3942128321157123]\n"
     ]
    },
    {
     "ename": "IndexError",
     "evalue": "list index out of range",
     "output_type": "error",
     "traceback": [
      "\u001b[0;31m---------------------------------------------------------------------------\u001b[0m",
      "\u001b[0;31mIndexError\u001b[0m                                Traceback (most recent call last)",
      "Cell \u001b[0;32mIn[55], line 14\u001b[0m\n\u001b[1;32m     12\u001b[0m \u001b[38;5;28mprint\u001b[39m(prices)\n\u001b[1;32m     13\u001b[0m \u001b[38;5;28;01mfor\u001b[39;00m i \u001b[38;5;129;01min\u001b[39;00m \u001b[38;5;28mrange\u001b[39m(\u001b[38;5;241m0\u001b[39m, \u001b[38;5;28mlen\u001b[39m(prices_last_6_days)):\n\u001b[0;32m---> 14\u001b[0m     \u001b[38;5;28;01mif\u001b[39;00m (prices[i] \u001b[38;5;241m>\u001b[39m ma20_last_6_days[i]):\n\u001b[1;32m     15\u001b[0m         cross_detected \u001b[38;5;241m=\u001b[39m \u001b[38;5;28;01mTrue\u001b[39;00m\n\u001b[1;32m     16\u001b[0m         \u001b[38;5;28;01mbreak\u001b[39;00m\n",
      "\u001b[0;31mIndexError\u001b[0m: list index out of range"
     ]
    }
   ],
   "source": [
    "recommended_coins = []\n",
    "\n",
    "# Calculate MA and check for cross within the last 10 days\n",
    "for coin_id, coin_history in coin_histories.items():\n",
    "    prices = [price[1] for price in coin_history['prices']]\n",
    "    ma20 = [sum(prices[i-20:i]) / 20 for i in range(20, len(prices))]\n",
    "    current_price = coins_filtered.loc[coins_filtered['id'] == coin_id, 'current_price'].values[0]\n",
    "    \n",
    "    cross_detected = False\n",
    "    ma20_last_6_days = [sum(prices[i-20:i]) / 20 for i in range(20, len(prices))]\n",
    "    prices_last_6_days = prices[-6:]\n",
    "    print(prices)\n",
    "    for i in range(0, len(prices_last_6_days)):\n",
    "        if (prices[i] > ma20_last_6_days[i]):\n",
    "            cross_detected = True\n",
    "            break\n",
    "\n",
    "    if current_price > ma20[-1]:\n",
    "        recommended_coins.append({'id': coin_id, 'current_price': current_price, 'ma20': ma20[-1], 'cross_detected': cross_detected})\n",
    "\n",
    "# Create a DataFrame from the recommended_coins list\n",
    "recommended_coins_df = pd.DataFrame(recommended_coins)\n",
    "\n",
    "# Add the '24h_trading_volume' column to the DataFrame\n",
    "recommended_coins_df['24h_trading_volume'] = recommended_coins_df['id'].apply(lambda x: coins_filtered.loc[coins_filtered['id'] == x, 'total_volume'].values[0])\n",
    "\n",
    "# Rename columns for better readability\n",
    "recommended_coins_df = recommended_coins_df.rename(columns={'id': 'Coin', 'current_price': 'Current Price', 'ma20': 'MA20', 'cross_detected': 'Cross Detected'})\n",
    "\n",
    "recommended_coins_df"
   ]
  },
  {
   "cell_type": "code",
   "execution_count": null,
   "metadata": {},
   "outputs": [
    {
     "name": "stdout",
     "output_type": "stream",
     "text": [
      "                Coin         Price          MA20 Action\n",
      "0      echelon-prime     25.664315     23.034927   Hold\n",
      "1           ethereum   3694.036912   3465.870103   Hold\n",
      "2            bitcoin  71247.768624  68369.700084   Hold\n",
      "3               near      7.622275      6.952447   Hold\n",
      "4              sidus      0.012445      0.010759   Hold\n",
      "5           dogecoin      0.199697      0.185411   Hold\n",
      "6        binancecoin    582.207868    577.436828   Hold\n",
      "7  yield-guild-games      1.354136      1.220380   Hold\n",
      "8           litecoin    102.357335     96.361801   Hold\n",
      "9               tron      0.122477      0.119964   Hold\n"
     ]
    }
   ],
   "source": [
    "opened_position_coins = ['echelon-prime', 'ethereum', 'bitcoin', 'near', \n",
    "                         'sidus', 'dogecoin', 'binancecoin', 'yield-guild-games', 'litecoin', 'tron']\n",
    "\n",
    "import pandas as pd\n",
    "\n",
    "def should_sell(prices, ma20):\n",
    "    if prices[-1] < ma20[-1]:\n",
    "        return \"Sell\"\n",
    "    else:\n",
    "        return \"Hold\"\n",
    "\n",
    "coin_data = []\n",
    "\n",
    "for coin_id in opened_position_coins:\n",
    "    url_coin_history = f'https://api.coingecko.com/api/v3/coins/{coin_id}/market_chart?vs_currency=usd&days=20&interval=daily'\n",
    "    \n",
    "    try:\n",
    "        coin_history = get_coin_data(url_coin_history)\n",
    "        prices = [price[1] for price in coin_history['prices']]\n",
    "        if len(prices) >= 20:\n",
    "            ma20 = [sum(prices[i-20:i]) / 20 for i in range(20, len(prices))]\n",
    "            \n",
    "            coin_data.append({\n",
    "                'Coin': coin_id,\n",
    "                'Price': prices[-1],\n",
    "                'MA20': ma20[-1],\n",
    "                'Action': should_sell(prices, ma20)\n",
    "            })\n",
    "        else:\n",
    "            print(f\"Insufficient data for {coin_id}. Skipping this coin.\")\n",
    "    except Exception as e:\n",
    "        print(f\"Error occurred for {coin_id}: {str(e)}. Skipping this coin.\")\n",
    "\n",
    "df = pd.DataFrame(coin_data)\n",
    "print(df)"
   ]
  },
  {
   "cell_type": "code",
   "execution_count": null,
   "metadata": {},
   "outputs": [
    {
     "ename": "NameError",
     "evalue": "name 'recommended_coins_df' is not defined",
     "output_type": "error",
     "traceback": [
      "\u001b[0;31m---------------------------------------------------------------------------\u001b[0m",
      "\u001b[0;31mNameError\u001b[0m                                 Traceback (most recent call last)",
      "Cell \u001b[0;32mIn[1], line 1\u001b[0m\n\u001b[0;32m----> 1\u001b[0m recommended_coins_df\u001b[38;5;241m.\u001b[39mto_excel(\u001b[38;5;124m\"\u001b[39m\u001b[38;5;124mreco.xlsx\u001b[39m\u001b[38;5;124m\"\u001b[39m)\n",
      "\u001b[0;31mNameError\u001b[0m: name 'recommended_coins_df' is not defined"
     ]
    }
   ],
   "source": [
    "recommended_coins_df.to_excel(\"reco.xlsx\")"
   ]
  }
 ],
 "metadata": {
  "kernelspec": {
   "display_name": "base",
   "language": "python",
   "name": "python3"
  },
  "language_info": {
   "codemirror_mode": {
    "name": "ipython",
    "version": 3
   },
   "file_extension": ".py",
   "mimetype": "text/x-python",
   "name": "python",
   "nbconvert_exporter": "python",
   "pygments_lexer": "ipython3",
   "version": "3.11.4"
  }
 },
 "nbformat": 4,
 "nbformat_minor": 2
}
